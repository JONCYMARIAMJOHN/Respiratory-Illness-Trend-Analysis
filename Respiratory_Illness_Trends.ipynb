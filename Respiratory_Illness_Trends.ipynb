{
 "cells": [
  {
   "cell_type": "markdown",
   "id": "fdf2a8c6-85c6-48eb-b4ba-9ae9e02c7b76",
   "metadata": {},
   "source": [
    "<h1 style=\"color: Green; font-family: Times Roman; font-weight: bold;text-align:center\"> Analyzing Trends in Respiratory Illness </h2>"
   ]
  },
  {
   "cell_type": "markdown",
   "id": "4a4f06be-37c2-4a1d-821c-8af617f274f1",
   "metadata": {},
   "source": [
    "# Introduction"
   ]
  },
  {
   "cell_type": "markdown",
   "id": "3e616ddf-29fc-4faf-93a5-10e1f164a770",
   "metadata": {},
   "source": [
    "Understanding respiratory illnesses like influenza, COVID-19, and RSV is crucial for public health. This project will analyze a dataset from the Illinois Department of Public Health (IDPH), which includes weekly data on emergency department visits and hospital admissions for respiratory conditions.\n",
    "\n",
    "We will explore how different factors, such as age and race/ethnicity, affect the number of visits related to these illnesses. By using machine learning techniques, we aim to identify trends and make predictions about future cases.\n",
    "\n",
    "Our analysis will include various methods to find patterns in the data, helping healthcare providers and public health officials better respond to respiratory illness outbreaks. This project seeks to provide valuable insights that can improve health outcomes and resource management during peak illness seasons."
   ]
  },
  {
   "cell_type": "markdown",
   "id": "574730fb-dd14-4f57-8739-43e990dfcd2b",
   "metadata": {},
   "source": [
    "# Import Libraries"
   ]
  },
  {
   "cell_type": "code",
   "execution_count": 2,
   "id": "b5dd67b1-7fd1-42b4-90c4-3f2c1c46af2a",
   "metadata": {},
   "outputs": [],
   "source": [
    "import numpy as np\n",
    "import pandas as pd\n",
    "import seaborn as sns\n",
    "\n",
    "import matplotlib.pyplot as plt"
   ]
  },
  {
   "cell_type": "markdown",
   "id": "87817fa7-4d3f-443e-90da-12f1d5514d3b",
   "metadata": {},
   "source": [
    "# Import Dataset"
   ]
  },
  {
   "cell_type": "code",
   "execution_count": 4,
   "id": "d13348a9-bb36-43e8-aef8-7d2950fd4a0e",
   "metadata": {},
   "outputs": [],
   "source": [
    "df = pd.read_csv(\"Visits_for_Respiratory_Illnesses.csv\")"
   ]
  },
  {
   "cell_type": "markdown",
   "id": "0dbf7e0b-01ee-4aa6-b31a-da3189b423f7",
   "metadata": {},
   "source": [
    "# Data Preprocessing"
   ]
  },
  {
   "cell_type": "markdown",
   "id": "9e6513ff-dee4-41f3-be3e-773bd9392828",
   "metadata": {},
   "source": [
    "### EDA"
   ]
  },
  {
   "cell_type": "code",
   "execution_count": 5,
   "id": "8778971c-7478-4929-80c5-44aa578ff0d8",
   "metadata": {},
   "outputs": [
    {
     "data": {
      "text/html": [
       "<div>\n",
       "<style scoped>\n",
       "    .dataframe tbody tr th:only-of-type {\n",
       "        vertical-align: middle;\n",
       "    }\n",
       "\n",
       "    .dataframe tbody tr th {\n",
       "        vertical-align: top;\n",
       "    }\n",
       "\n",
       "    .dataframe thead th {\n",
       "        text-align: right;\n",
       "    }\n",
       "</style>\n",
       "<table border=\"1\" class=\"dataframe\">\n",
       "  <thead>\n",
       "    <tr style=\"text-align: right;\">\n",
       "      <th></th>\n",
       "      <th>mmwr_week</th>\n",
       "      <th>week</th>\n",
       "      <th>week_start</th>\n",
       "      <th>week_end</th>\n",
       "      <th>season</th>\n",
       "      <th>data_source</th>\n",
       "      <th>essence_category</th>\n",
       "      <th>respiratory_category</th>\n",
       "      <th>visit_type</th>\n",
       "      <th>demographic_category</th>\n",
       "      <th>demographic_group</th>\n",
       "      <th>percent</th>\n",
       "      <th>current_week_ending</th>\n",
       "    </tr>\n",
       "  </thead>\n",
       "  <tbody>\n",
       "    <tr>\n",
       "      <th>0</th>\n",
       "      <td>202043</td>\n",
       "      <td>43</td>\n",
       "      <td>10/18/2020</td>\n",
       "      <td>10/24/2020</td>\n",
       "      <td>2020-2021</td>\n",
       "      <td>ESSENCE</td>\n",
       "      <td>CDC Influenza DD v1</td>\n",
       "      <td>Influenza</td>\n",
       "      <td>Admissions</td>\n",
       "      <td>Age Group</td>\n",
       "      <td>65+</td>\n",
       "      <td>0.05</td>\n",
       "      <td>10/26/2024</td>\n",
       "    </tr>\n",
       "    <tr>\n",
       "      <th>1</th>\n",
       "      <td>202032</td>\n",
       "      <td>32</td>\n",
       "      <td>08/02/2020</td>\n",
       "      <td>08/08/2020</td>\n",
       "      <td>2019-2020</td>\n",
       "      <td>ESSENCE</td>\n",
       "      <td>CDC Respiratory Syncytial Virus DD v1</td>\n",
       "      <td>RSV</td>\n",
       "      <td>Admissions</td>\n",
       "      <td>Race/Ethnicity</td>\n",
       "      <td>Asian Non-Hispanic</td>\n",
       "      <td>0.00</td>\n",
       "      <td>08/09/2025</td>\n",
       "    </tr>\n",
       "    <tr>\n",
       "      <th>2</th>\n",
       "      <td>202439</td>\n",
       "      <td>39</td>\n",
       "      <td>09/22/2024</td>\n",
       "      <td>09/28/2024</td>\n",
       "      <td>2023-2024</td>\n",
       "      <td>ESSENCE</td>\n",
       "      <td>CDC Broad Acute Respiratory DD v1</td>\n",
       "      <td>Broad Acute Respiratory</td>\n",
       "      <td>Admissions</td>\n",
       "      <td>Age Group</td>\n",
       "      <td>65+</td>\n",
       "      <td>16.59</td>\n",
       "      <td>09/27/2025</td>\n",
       "    </tr>\n",
       "    <tr>\n",
       "      <th>3</th>\n",
       "      <td>202406</td>\n",
       "      <td>6</td>\n",
       "      <td>02/04/2024</td>\n",
       "      <td>02/10/2024</td>\n",
       "      <td>2023-2024</td>\n",
       "      <td>ESSENCE</td>\n",
       "      <td>CDC Influenza DD v1</td>\n",
       "      <td>Influenza</td>\n",
       "      <td>ED Visits</td>\n",
       "      <td>Age Group</td>\n",
       "      <td>45_64</td>\n",
       "      <td>0.99</td>\n",
       "      <td>02/08/2025</td>\n",
       "    </tr>\n",
       "    <tr>\n",
       "      <th>4</th>\n",
       "      <td>202429</td>\n",
       "      <td>29</td>\n",
       "      <td>07/14/2024</td>\n",
       "      <td>07/20/2024</td>\n",
       "      <td>2023-2024</td>\n",
       "      <td>ESSENCE</td>\n",
       "      <td>CDC Respiratory Syncytial Virus DD v1</td>\n",
       "      <td>RSV</td>\n",
       "      <td>Admissions</td>\n",
       "      <td>Age Group</td>\n",
       "      <td>Age Unknown</td>\n",
       "      <td>0.00</td>\n",
       "      <td>07/19/2025</td>\n",
       "    </tr>\n",
       "  </tbody>\n",
       "</table>\n",
       "</div>"
      ],
      "text/plain": [
       "   mmwr_week  week  week_start    week_end     season data_source  \\\n",
       "0     202043    43  10/18/2020  10/24/2020  2020-2021     ESSENCE   \n",
       "1     202032    32  08/02/2020  08/08/2020  2019-2020     ESSENCE   \n",
       "2     202439    39  09/22/2024  09/28/2024  2023-2024     ESSENCE   \n",
       "3     202406     6  02/04/2024  02/10/2024  2023-2024     ESSENCE   \n",
       "4     202429    29  07/14/2024  07/20/2024  2023-2024     ESSENCE   \n",
       "\n",
       "                        essence_category     respiratory_category  visit_type  \\\n",
       "0                    CDC Influenza DD v1                Influenza  Admissions   \n",
       "1  CDC Respiratory Syncytial Virus DD v1                      RSV  Admissions   \n",
       "2      CDC Broad Acute Respiratory DD v1  Broad Acute Respiratory  Admissions   \n",
       "3                    CDC Influenza DD v1                Influenza   ED Visits   \n",
       "4  CDC Respiratory Syncytial Virus DD v1                      RSV  Admissions   \n",
       "\n",
       "  demographic_category   demographic_group  percent current_week_ending  \n",
       "0            Age Group                 65+     0.05          10/26/2024  \n",
       "1       Race/Ethnicity  Asian Non-Hispanic     0.00          08/09/2025  \n",
       "2            Age Group                 65+    16.59          09/27/2025  \n",
       "3            Age Group               45_64     0.99          02/08/2025  \n",
       "4            Age Group         Age Unknown     0.00          07/19/2025  "
      ]
     },
     "execution_count": 5,
     "metadata": {},
     "output_type": "execute_result"
    }
   ],
   "source": [
    "df.head()"
   ]
  },
  {
   "cell_type": "code",
   "execution_count": 6,
   "id": "ca7853e1-e5a5-4565-8cc7-745a035a8c07",
   "metadata": {},
   "outputs": [
    {
     "name": "stdout",
     "output_type": "stream",
     "text": [
      "<class 'pandas.core.frame.DataFrame'>\n",
      "RangeIndex: 48181 entries, 0 to 48180\n",
      "Data columns (total 13 columns):\n",
      " #   Column                Non-Null Count  Dtype  \n",
      "---  ------                --------------  -----  \n",
      " 0   mmwr_week             48181 non-null  int64  \n",
      " 1   week                  48181 non-null  int64  \n",
      " 2   week_start            48181 non-null  object \n",
      " 3   week_end              48181 non-null  object \n",
      " 4   season                48181 non-null  object \n",
      " 5   data_source           48181 non-null  object \n",
      " 6   essence_category      48181 non-null  object \n",
      " 7   respiratory_category  48181 non-null  object \n",
      " 8   visit_type            48181 non-null  object \n",
      " 9   demographic_category  48181 non-null  object \n",
      " 10  demographic_group     48181 non-null  object \n",
      " 11  percent               47964 non-null  float64\n",
      " 12  current_week_ending   48181 non-null  object \n",
      "dtypes: float64(1), int64(2), object(10)\n",
      "memory usage: 4.8+ MB\n"
     ]
    }
   ],
   "source": [
    "df.info()"
   ]
  },
  {
   "cell_type": "code",
   "execution_count": 7,
   "id": "4d1a8ecc-076a-4e64-a3b6-229891e37170",
   "metadata": {},
   "outputs": [
    {
     "data": {
      "text/html": [
       "<div>\n",
       "<style scoped>\n",
       "    .dataframe tbody tr th:only-of-type {\n",
       "        vertical-align: middle;\n",
       "    }\n",
       "\n",
       "    .dataframe tbody tr th {\n",
       "        vertical-align: top;\n",
       "    }\n",
       "\n",
       "    .dataframe thead th {\n",
       "        text-align: right;\n",
       "    }\n",
       "</style>\n",
       "<table border=\"1\" class=\"dataframe\">\n",
       "  <thead>\n",
       "    <tr style=\"text-align: right;\">\n",
       "      <th></th>\n",
       "      <th>count</th>\n",
       "      <th>mean</th>\n",
       "      <th>std</th>\n",
       "      <th>min</th>\n",
       "      <th>25%</th>\n",
       "      <th>50%</th>\n",
       "      <th>75%</th>\n",
       "      <th>max</th>\n",
       "    </tr>\n",
       "  </thead>\n",
       "  <tbody>\n",
       "    <tr>\n",
       "      <th>mmwr_week</th>\n",
       "      <td>48181.0</td>\n",
       "      <td>202075.24</td>\n",
       "      <td>247.06</td>\n",
       "      <td>201540.0</td>\n",
       "      <td>201914.0</td>\n",
       "      <td>202115.00</td>\n",
       "      <td>202303.00</td>\n",
       "      <td>202442.0</td>\n",
       "    </tr>\n",
       "    <tr>\n",
       "      <th>week</th>\n",
       "      <td>48181.0</td>\n",
       "      <td>26.62</td>\n",
       "      <td>15.00</td>\n",
       "      <td>1.0</td>\n",
       "      <td>14.0</td>\n",
       "      <td>27.00</td>\n",
       "      <td>40.00</td>\n",
       "      <td>52.0</td>\n",
       "    </tr>\n",
       "    <tr>\n",
       "      <th>percent</th>\n",
       "      <td>47964.0</td>\n",
       "      <td>3.31</td>\n",
       "      <td>6.33</td>\n",
       "      <td>0.0</td>\n",
       "      <td>0.0</td>\n",
       "      <td>0.48</td>\n",
       "      <td>3.34</td>\n",
       "      <td>100.0</td>\n",
       "    </tr>\n",
       "  </tbody>\n",
       "</table>\n",
       "</div>"
      ],
      "text/plain": [
       "             count       mean     std       min       25%        50%  \\\n",
       "mmwr_week  48181.0  202075.24  247.06  201540.0  201914.0  202115.00   \n",
       "week       48181.0      26.62   15.00       1.0      14.0      27.00   \n",
       "percent    47964.0       3.31    6.33       0.0       0.0       0.48   \n",
       "\n",
       "                 75%       max  \n",
       "mmwr_week  202303.00  202442.0  \n",
       "week           40.00      52.0  \n",
       "percent         3.34     100.0  "
      ]
     },
     "execution_count": 7,
     "metadata": {},
     "output_type": "execute_result"
    }
   ],
   "source": [
    "df.describe().T.round(2)"
   ]
  },
  {
   "cell_type": "code",
   "execution_count": 8,
   "id": "3922f258-0fa1-427a-952d-cef09f0ebe75",
   "metadata": {},
   "outputs": [
    {
     "data": {
      "text/plain": [
       "Index(['mmwr_week', 'week', 'week_start', 'week_end', 'season', 'data_source',\n",
       "       'essence_category', 'respiratory_category', 'visit_type',\n",
       "       'demographic_category', 'demographic_group', 'percent',\n",
       "       'current_week_ending'],\n",
       "      dtype='object')"
      ]
     },
     "execution_count": 8,
     "metadata": {},
     "output_type": "execute_result"
    }
   ],
   "source": [
    "df.columns"
   ]
  },
  {
   "cell_type": "code",
   "execution_count": 9,
   "id": "770fa43e-d83d-4457-93d3-7bee42112e9d",
   "metadata": {},
   "outputs": [
    {
     "data": {
      "text/plain": [
       "(48181, 13)"
      ]
     },
     "execution_count": 9,
     "metadata": {},
     "output_type": "execute_result"
    }
   ],
   "source": [
    "df.shape"
   ]
  },
  {
   "cell_type": "markdown",
   "id": "366905d8-b1a2-4201-af0b-0b75e1c10b16",
   "metadata": {},
   "source": [
    "### Handle Missing Data"
   ]
  },
  {
   "cell_type": "code",
   "execution_count": 7,
   "id": "5e3a5bd1-ed67-4e02-9394-d0a77c526c34",
   "metadata": {},
   "outputs": [
    {
     "data": {
      "text/plain": [
       "mmwr_week                 0\n",
       "week                      0\n",
       "week_start                0\n",
       "week_end                  0\n",
       "season                    0\n",
       "data_source               0\n",
       "essence_category          0\n",
       "respiratory_category      0\n",
       "visit_type                0\n",
       "demographic_category      0\n",
       "demographic_group         0\n",
       "percent                 217\n",
       "current_week_ending       0\n",
       "dtype: int64"
      ]
     },
     "execution_count": 7,
     "metadata": {},
     "output_type": "execute_result"
    }
   ],
   "source": [
    "df.isnull().sum()"
   ]
  },
  {
   "cell_type": "markdown",
   "id": "8739f115-bc67-410e-b8b0-74f1555233a1",
   "metadata": {},
   "source": [
    "Missing values qare present in only one column, 'percent' which is the target column. Let's replace null values with the mean of the column"
   ]
  },
  {
   "cell_type": "code",
   "execution_count": 10,
   "id": "af7a6516-4671-477e-8fc0-de21c5239a11",
   "metadata": {},
   "outputs": [],
   "source": [
    "df['percent'] = df['percent'].fillna(df['percent'].mean())"
   ]
  },
  {
   "cell_type": "code",
   "execution_count": 12,
   "id": "b7d9f6ae-0731-484e-b751-ea6816c1cafd",
   "metadata": {},
   "outputs": [
    {
     "data": {
      "text/plain": [
       "0"
      ]
     },
     "execution_count": 12,
     "metadata": {},
     "output_type": "execute_result"
    }
   ],
   "source": [
    "df.duplicated().sum()"
   ]
  },
  {
   "cell_type": "markdown",
   "id": "214f4ebd-f30c-4424-a415-80cbd69d38e5",
   "metadata": {},
   "source": [
    "### Compare Illness by Category"
   ]
  },
  {
   "cell_type": "code",
   "execution_count": 18,
   "id": "88ca3d9f-18fb-4175-9f77-b70472081c5a",
   "metadata": {},
   "outputs": [
    {
     "name": "stdout",
     "output_type": "stream",
     "text": [
      "      respiratory_category    percent\n",
      "0  Broad Acute Respiratory  12.440211\n",
      "1                 COVID-19   1.774713\n",
      "2                      ILI   1.578689\n",
      "3                Influenza   0.606950\n",
      "4                      RSV   0.221328\n"
     ]
    }
   ],
   "source": [
    "# Group by Respiratory Category and mean percentage of visits\n",
    "\n",
    "respiratory_category_stats = df.groupby('respiratory_category')['percent'].mean().reset_index()\n",
    "print(respiratory_category_stats)"
   ]
  },
  {
   "cell_type": "code",
   "execution_count": 31,
   "id": "50adc7a4-16a0-4ee8-a428-a6f5ea40a888",
   "metadata": {},
   "outputs": [
    {
     "data": {
      "image/png": "[encoded data removed]",
      "text/plain": [
       "<Figure size 1600x500 with 1 Axes>"
      ]
     },
     "metadata": {},
     "output_type": "display_data"
    }
   ],
   "source": [
    "x = respiratory_category_stats['respiratory_category']\n",
    "y = respiratory_category_stats['percent']\n",
    "plt.figure(figsize = (16,5))\n",
    "plt.bar(x,y,color='orange')\n",
    "plt.xlabel('Respiratory Category')\n",
    "plt.ylabel('Percent')\n",
    "plt.title('Respiratory Category vs Percent', fontsize=15)\n",
    "plt.show()"
   ]
  },
  {
   "cell_type": "code",
   "execution_count": 23,
   "id": "deb84bce-749c-429a-9ea5-9fc2b9f68301",
   "metadata": {},
   "outputs": [
    {
     "name": "stdout",
     "output_type": "stream",
     "text": [
      "         demographic_group   percent\n",
      "0                    00_04  6.016131\n",
      "1                    05_17  4.325106\n",
      "2                    18_44  2.098747\n",
      "3                    45_64  3.003161\n",
      "4                      65+  3.682120\n",
      "5                      ALL  3.157790\n",
      "6              Age Unknown  1.262863\n",
      "7       Asian Non-Hispanic  3.444523\n",
      "8       Black Non-Hispanic  3.410858\n",
      "9       Hispanic or Latino  3.743733\n",
      "10    Other Race/Ethnicity  3.408477\n",
      "11  Unknown Race/Ethnicity  2.563324\n",
      "12      White Non-Hispanic  2.897428\n"
     ]
    }
   ],
   "source": [
    "# Group by Demograhic Group and mean percentage of visits\n",
    "\n",
    "demographic_group_stats = df.groupby('demographic_group')['percent'].mean().reset_index()\n",
    "print(demographic_group_stats)"
   ]
  },
  {
   "cell_type": "code",
   "execution_count": 32,
   "id": "5daf8bae-35f0-4ade-a38c-c0370d8de186",
   "metadata": {},
   "outputs": [
    {
     "data": {
      "image/png": "[encoded data removed]",
      "text/plain": [
       "<Figure size 1600x500 with 1 Axes>"
      ]
     },
     "metadata": {},
     "output_type": "display_data"
    }
   ],
   "source": [
    "x = demographic_group_stats['demographic_group']\n",
    "y = demographic_group_stats['percent']\n",
    "plt.figure(figsize = (16,5))\n",
    "plt.bar(x,y,color=\"green\")\n",
    "plt.xlabel('Demographic Group')\n",
    "plt.ylabel('Percent')\n",
    "plt.xticks(rotation=45)\n",
    "plt.title('Demographic Group vs Percent', fontsize=15)\n",
    "plt.show()"
   ]
  },
  {
   "cell_type": "code",
   "execution_count": 26,
   "id": "c90a4f52-29c1-4a86-8939-4ae3656f79c5",
   "metadata": {
    "scrolled": true
   },
   "outputs": [
    {
     "name": "stdout",
     "output_type": "stream",
     "text": [
      "      season   percent\n",
      "0  2015-2016  1.954309\n",
      "1  2016-2017  2.599125\n",
      "2  2017-2018  3.313650\n",
      "3  2018-2019  2.954014\n",
      "4  2019-2020  4.130680\n",
      "5  2020-2021  3.263700\n",
      "6  2021-2022  3.605940\n",
      "7  2022-2023  3.388238\n",
      "8  2023-2024  3.407993\n",
      "9  2024-2025  2.497557\n"
     ]
    }
   ],
   "source": [
    "# Group by Season and mean percentage of visits\n",
    "\n",
    "season_stats = df.groupby('season')['percent'].mean().reset_index()\n",
    "print(season_stats)"
   ]
  },
  {
   "cell_type": "code",
   "execution_count": 34,
   "id": "b0c65152-3896-4b4b-855c-d4a7ab169605",
   "metadata": {},
   "outputs": [
    {
     "data": {
      "image/png": "[encoded data removed]",
      "text/plain": [
       "<Figure size 1600x500 with 1 Axes>"
      ]
     },
     "metadata": {},
     "output_type": "display_data"
    }
   ],
   "source": [
    "x = season_stats['season']\n",
    "y = season_stats['percent']\n",
    "plt.figure(figsize = (16,5))\n",
    "plt.bar(x,y,color=\"maroon\")\n",
    "plt.xlabel('Season')\n",
    "plt.ylabel('Percent')\n",
    "plt.title('Season vs Percent', fontsize=15)\n",
    "plt.show()"
   ]
  },
  {
   "cell_type": "markdown",
   "id": "6f0c51d4-a795-4293-9142-529bbc9e22d1",
   "metadata": {},
   "source": [
    "### Multivariate Analysis"
   ]
  },
  {
   "cell_type": "code",
   "execution_count": 13,
   "id": "05e11483-ee93-490c-95d5-7c2cf194ee49",
   "metadata": {},
   "outputs": [
    {
     "data": {
      "image/png": "[encoded data removed]",
      "text/plain": [
       "<Figure size 800x600 with 2 Axes>"
      ]
     },
     "metadata": {},
     "output_type": "display_data"
    }
   ],
   "source": [
    "corr_matrix = df[['mmwr_week', 'week', 'percent']].corr()\n",
    "\n",
    "plt.figure(figsize=(8,6))\n",
    "sns.heatmap(corr_matrix, annot=True, cmap='coolwarm', fmt='.2f', cbar=True)\n",
    "plt.title('Correlation Heatmap')\n",
    "plt.show()"
   ]
  },
  {
   "cell_type": "markdown",
   "id": "7b80f4e4-7431-4dd8-8c10-b827d89cf681",
   "metadata": {},
   "source": [
    "# Outlier Detection"
   ]
  },
  {
   "cell_type": "markdown",
   "id": "ee1ed17a-e232-4923-a827-9ad591086751",
   "metadata": {},
   "source": [
    "Outliers are data points that differ significantly from other observations in a dataset. They are extreme values that lie far away from the overall pattern or distribution of the data. Outliers can result from variability in the data, measurement errors, or rare but valid occurrences."
   ]
  },
  {
   "cell_type": "markdown",
   "id": "8d1826dc-6570-4fb3-8e5e-54505b5c3125",
   "metadata": {},
   "source": [
    "### Skewness Checking"
   ]
  },
  {
   "cell_type": "markdown",
   "id": "27f918eb-9339-46e9-a19a-ee16facfa926",
   "metadata": {},
   "source": [
    "Skewness refers to the asymmetry or deviation from symmetry in the distribution of data. A distribution is considered skewed if it is not symmetrical and has a longer or fatter tail on one side. Understanding skewness is important because it gives insights into the shape of the data distribution, which affects statistical analysis and the choice of appropriate models."
   ]
  },
  {
   "cell_type": "code",
   "execution_count": 39,
   "id": "61cc3833-d659-4fe2-ba1d-0b24a0c2ebff",
   "metadata": {},
   "outputs": [
    {
     "data": {
      "text/plain": [
       "mmwr_week   -0.397348\n",
       "week        -0.016217\n",
       "percent      3.743531\n",
       "dtype: float64"
      ]
     },
     "execution_count": 39,
     "metadata": {},
     "output_type": "execute_result"
    }
   ],
   "source": [
    "num_cols = df.select_dtypes(include=['float64','int64'])\n",
    "num_cols.skew()"
   ]
  },
  {
   "cell_type": "code",
   "execution_count": 40,
   "id": "07cff0bb-5b8f-4c97-aa5e-c50c83fc6e61",
   "metadata": {},
   "outputs": [],
   "source": [
    "df_new = df.copy()"
   ]
  },
  {
   "cell_type": "code",
   "execution_count": 41,
   "id": "eb1787c7-5efe-4ea7-81c0-ec70a5babd2c",
   "metadata": {},
   "outputs": [
    {
     "data": {
      "text/plain": [
       "1.0182861622558135"
      ]
     },
     "execution_count": 41,
     "metadata": {},
     "output_type": "execute_result"
    }
   ],
   "source": [
    "df_new['percent'] = np.log1p(df_new['percent'])\n",
    "df_new['percent'].skew()"
   ]
  },
  {
   "cell_type": "code",
   "execution_count": 42,
   "id": "e6c17e22-02da-4fb3-9f7c-2747e4391c14",
   "metadata": {},
   "outputs": [
    {
     "data": {
      "text/plain": [
       "0.31903484914004904"
      ]
     },
     "execution_count": 42,
     "metadata": {},
     "output_type": "execute_result"
    }
   ],
   "source": [
    "df_new['percent'] = np.sqrt(df_new['percent'])\n",
    "df_new['percent'].skew()"
   ]
  },
  {
   "cell_type": "code",
   "execution_count": 43,
   "id": "b8158f47-cb94-438b-bbb8-e486b9f6470c",
   "metadata": {},
   "outputs": [],
   "source": [
    "df['percent'] = df_new['percent']"
   ]
  },
  {
   "cell_type": "markdown",
   "id": "2dba065e-fa0e-4601-8d06-beec8559e421",
   "metadata": {},
   "source": [
    "### Z-Score Calculation"
   ]
  },
  {
   "cell_type": "markdown",
   "id": "b907fa3d-52fa-452e-88a7-53798074625e",
   "metadata": {},
   "source": [
    "The **Z-score** method is a statistical technique for identifying outliers in a dataset. It measures how far a data point deviates from the mean of the data in terms of standard deviations. Points with Z-scores that exceed a defined threshold are considered potential outliers. The Z-score for a data point is calculated using the formula:\n",
    "\n",
    "**𝑍 = (X-μ)/σ**\n",
    "\n",
    "The Z-score measures how many standard deviations x is away from the mean:\n",
    "\n",
    "Z-score of 0 means the data point is exactly at the mean.\n",
    "\n",
    "Z-score of +1 means the data point is one standard deviation above the mean.\n",
    "\n",
    "Z-score of -1 means the data point is one standard deviation below the mean."
   ]
  },
  {
   "cell_type": "code",
   "execution_count": 45,
   "id": "f03c6adc-881e-474d-a090-36a731322933",
   "metadata": {},
   "outputs": [],
   "source": [
    "from scipy.stats import zscore"
   ]
  },
  {
   "cell_type": "code",
   "execution_count": 60,
   "id": "0c9c8903-9184-4e55-b78e-43533a448d8b",
   "metadata": {},
   "outputs": [
    {
     "name": "stdout",
     "output_type": "stream",
     "text": [
      "Column: mmwr_week - Outliers Imputed: 0 - Skewness: -0.39734778162366785\n",
      "Column: week - Outliers Imputed: 0 - Skewness: -0.016217148490051923\n",
      "Column: percent - Outliers Imputed: 0 - Skewness: 0.31903484914004904\n"
     ]
    }
   ],
   "source": [
    "z_threshold = 3\n",
    "\n",
    "for col in num_cols:\n",
    "    z_scores = zscore(df[col])\n",
    "    \n",
    "    outliers = np.abs(z_scores) > z_threshold\n",
    "    \n",
    "    if outliers.any(): \n",
    "        df[col] = np.where(outliers, df[col].mean(), df[col])\n",
    "    print(f\"Column: {col} - Outliers Imputed: {outliers.sum()} - Skewness: {df[col].skew()}\")"
   ]
  },
  {
   "cell_type": "code",
   "execution_count": 64,
   "id": "11d933fc-185c-45a4-9066-70f3bac71ba7",
   "metadata": {},
   "outputs": [
    {
     "data": {
      "text/plain": [
       "<Axes: >"
      ]
     },
     "execution_count": 64,
     "metadata": {},
     "output_type": "execute_result"
    },
    {
     "data": {
      "image/png": "[encoded data removed]",
      "text/plain": [
       "<Figure size 640x480 with 1 Axes>"
      ]
     },
     "metadata": {},
     "output_type": "display_data"
    }
   ],
   "source": [
    "sns.boxplot(df['mmwr_week'])"
   ]
  },
  {
   "cell_type": "code",
   "execution_count": 65,
   "id": "26232323-cfaa-44c0-82ac-3d7f7e48e482",
   "metadata": {},
   "outputs": [
    {
     "data": {
      "text/plain": [
       "<Axes: >"
      ]
     },
     "execution_count": 65,
     "metadata": {},
     "output_type": "execute_result"
    },
    {
     "data": {
      "image/png": "[encoded data removed]",
      "text/plain": [
       "<Figure size 640x480 with 1 Axes>"
      ]
     },
     "metadata": {},
     "output_type": "display_data"
    }
   ],
   "source": [
    "sns.boxplot(df['week'])"
   ]
  },
  {
   "cell_type": "code",
   "execution_count": 66,
   "id": "ea251b95-952f-4b75-a061-e9145566fdef",
   "metadata": {},
   "outputs": [
    {
     "data": {
      "text/plain": [
       "<Axes: >"
      ]
     },
     "execution_count": 66,
     "metadata": {},
     "output_type": "execute_result"
    },
    {
     "data": {
      "image/png": "[encoded data removed]",
      "text/plain": [
       "<Figure size 640x480 with 1 Axes>"
      ]
     },
     "metadata": {},
     "output_type": "display_data"
    }
   ],
   "source": [
    "sns.boxplot(df['percent'])"
   ]
  },
  {
   "cell_type": "markdown",
   "id": "36d0994f-a0f9-4b52-845a-ba9eab3a3f96",
   "metadata": {},
   "source": [
    "# Data Transformation"
   ]
  },
  {
   "cell_type": "markdown",
   "id": "fefaec75-35b4-4291-aca6-adfc63bedd6f",
   "metadata": {},
   "source": [
    "Dataset consist of several columns of data type 'object'. We have to convertit into numerical type inorder to apply machine learning algorithm. So let's apply One Hot Encoding"
   ]
  },
  {
   "cell_type": "markdown",
   "id": "a34cec15-ba9a-42f3-ad7b-a4069bbb99f9",
   "metadata": {},
   "source": [
    "NB: Exclude columns consisting of date information"
   ]
  },
  {
   "cell_type": "markdown",
   "id": "32a36182-ef44-4a53-96c4-c7144c634582",
   "metadata": {},
   "source": [
    "### One Hot Encoding"
   ]
  },
  {
   "cell_type": "code",
   "execution_count": 67,
   "id": "1f250825-910c-427c-b88b-0a6dfdefda82",
   "metadata": {},
   "outputs": [
    {
     "name": "stdout",
     "output_type": "stream",
     "text": [
      "<class 'pandas.core.frame.DataFrame'>\n",
      "RangeIndex: 48181 entries, 0 to 48180\n",
      "Data columns (total 13 columns):\n",
      " #   Column                Non-Null Count  Dtype  \n",
      "---  ------                --------------  -----  \n",
      " 0   mmwr_week             48181 non-null  int64  \n",
      " 1   week                  48181 non-null  int64  \n",
      " 2   week_start            48181 non-null  object \n",
      " 3   week_end              48181 non-null  object \n",
      " 4   season                48181 non-null  object \n",
      " 5   data_source           48181 non-null  object \n",
      " 6   essence_category      48181 non-null  object \n",
      " 7   respiratory_category  48181 non-null  object \n",
      " 8   visit_type            48181 non-null  object \n",
      " 9   demographic_category  48181 non-null  object \n",
      " 10  demographic_group     48181 non-null  object \n",
      " 11  percent               48181 non-null  float64\n",
      " 12  current_week_ending   48181 non-null  object \n",
      "dtypes: float64(1), int64(2), object(10)\n",
      "memory usage: 4.8+ MB\n"
     ]
    }
   ],
   "source": [
    "df.info()"
   ]
  },
  {
   "cell_type": "code",
   "execution_count": 68,
   "id": "258dba80-e752-4f20-b8eb-9b9ccea822de",
   "metadata": {},
   "outputs": [],
   "source": [
    "categorical_columns = ['season', 'data_source', 'essence_category', 'respiratory_category', 'visit_type', 'demographic_category', 'demographic_group']\n",
    "df_encoded = pd.get_dummies(df, columns = categorical_columns, drop_first=True)"
   ]
  },
  {
   "cell_type": "code",
   "execution_count": 70,
   "id": "66a3f758-9f3e-48ce-8de9-ef7a9c9087a1",
   "metadata": {},
   "outputs": [
    {
     "data": {
      "text/plain": [
       "mmwr_week                                                   int64\n",
       "week                                                        int64\n",
       "week_start                                                 object\n",
       "week_end                                                   object\n",
       "percent                                                   float64\n",
       "current_week_ending                                        object\n",
       "season_2016-2017                                             bool\n",
       "season_2017-2018                                             bool\n",
       "season_2018-2019                                             bool\n",
       "season_2019-2020                                             bool\n",
       "season_2020-2021                                             bool\n",
       "season_2021-2022                                             bool\n",
       "season_2022-2023                                             bool\n",
       "season_2023-2024                                             bool\n",
       "season_2024-2025                                             bool\n",
       "data_source_ILINet                                           bool\n",
       "essence_category_CDC COVID-Specific DD v1                    bool\n",
       "essence_category_CDC Influenza DD v1                         bool\n",
       "essence_category_CDC Respiratory Syncytial Virus DD v1       bool\n",
       "essence_category_Influenza-like Illness                      bool\n",
       "essence_category_Not Applicable                              bool\n",
       "respiratory_category_COVID-19                                bool\n",
       "respiratory_category_ILI                                     bool\n",
       "respiratory_category_Influenza                               bool\n",
       "respiratory_category_RSV                                     bool\n",
       "visit_type_ED Visits                                         bool\n",
       "visit_type_Outpatient Visits                                 bool\n",
       "demographic_category_Age Group                               bool\n",
       "demographic_category_Race/Ethnicity                          bool\n",
       "demographic_group_05_17                                      bool\n",
       "demographic_group_18_44                                      bool\n",
       "demographic_group_45_64                                      bool\n",
       "demographic_group_65+                                        bool\n",
       "demographic_group_ALL                                        bool\n",
       "demographic_group_Age Unknown                                bool\n",
       "demographic_group_Asian Non-Hispanic                         bool\n",
       "demographic_group_Black Non-Hispanic                         bool\n",
       "demographic_group_Hispanic or Latino                         bool\n",
       "demographic_group_Other Race/Ethnicity                       bool\n",
       "demographic_group_Unknown Race/Ethnicity                     bool\n",
       "demographic_group_White Non-Hispanic                         bool\n",
       "dtype: object"
      ]
     },
     "execution_count": 70,
     "metadata": {},
     "output_type": "execute_result"
    }
   ],
   "source": [
    "df_encoded.dtypes"
   ]
  },
  {
   "cell_type": "markdown",
   "id": "f7abb047-3b19-41a6-be77-a7d699ded757",
   "metadata": {},
   "source": [
    "### Convert date columns to datetime"
   ]
  },
  {
   "cell_type": "markdown",
   "id": "01892ffc-2ca8-401e-b25d-bf9099e41bbc",
   "metadata": {},
   "source": [
    "Convert the datatype of columns into datetime type"
   ]
  },
  {
   "cell_type": "code",
   "execution_count": 71,
   "id": "a1ff2398-8b64-4fe0-80c4-6349086b5788",
   "metadata": {},
   "outputs": [],
   "source": [
    "df_encoded['week_start'] = pd.to_datetime(df_encoded['week_start'], format='%m/%d/%Y')\n",
    "df_encoded['week_end'] = pd.to_datetime(df_encoded['week_end'], format='%m/%d/%Y')\n",
    "df_encoded['current_week_ending'] = pd.to_datetime(df_encoded['current_week_ending'], format='%m/%d/%Y')"
   ]
  },
  {
   "cell_type": "markdown",
   "id": "7c23bf6b-35c3-4459-b8ce-a2f74abdbd42",
   "metadata": {},
   "source": [
    "### Extract Date Components"
   ]
  },
  {
   "cell_type": "markdown",
   "id": "2c952379-7590-4c77-860c-14c8e341010e",
   "metadata": {},
   "source": [
    "Extract the date components (year, month, day, weekday) from date columns so that mentioned columns become numeric"
   ]
  },
  {
   "cell_type": "code",
   "execution_count": 73,
   "id": "f15f50e1-178c-4493-814a-585678eb576b",
   "metadata": {},
   "outputs": [],
   "source": [
    "df_encoded['week_start_year'] = df_encoded['week_start'].dt.year\n",
    "df_encoded['week_start_month'] = df_encoded['week_start'].dt.month\n",
    "df_encoded['week_start_day'] = df_encoded['week_start'].dt.day\n",
    "df_encoded['week_start_weekday'] = df_encoded['week_start'].dt.weekday\n",
    "\n",
    "df_encoded['week_end_year'] = df_encoded['week_end'].dt.year\n",
    "df_encoded['week_end_month'] = df_encoded['week_end'].dt.month\n",
    "df_encoded['week_end_day'] = df_encoded['week_end'].dt.day\n",
    "df_encoded['week_end_weekday'] = df_encoded['week_end'].dt.weekday\n",
    "\n",
    "\n",
    "df_encoded['current_week_ending_year'] = df_encoded['week_start'].dt.year\n",
    "df_encoded['current_week_ending_month'] = df_encoded['week_start'].dt.month\n",
    "df_encoded['current_week_ending_day'] = df_encoded['week_start'].dt.day\n",
    "df_encoded['current_week_ending-_weekday'] = df_encoded['week_start'].dt.weekday\n",
    "\n",
    "df_encoded = df_encoded.drop(columns=['week_start', 'week_end', 'current_week_ending'])"
   ]
  },
  {
   "cell_type": "code",
   "execution_count": 74,
   "id": "8ab7ab2e-0754-4fc2-b31f-567ab575b530",
   "metadata": {},
   "outputs": [],
   "source": [
    "df = df_encoded.copy()"
   ]
  },
  {
   "cell_type": "markdown",
   "id": "71be392f-112a-4b5f-a43a-96d306048a98",
   "metadata": {},
   "source": [
    "# Splitting Dataset"
   ]
  },
  {
   "cell_type": "markdown",
   "id": "d12634ca-e08f-4109-adf3-a76e168194c7",
   "metadata": {},
   "source": [
    "In machine learning, one of the crucial steps in building a model is to split the dataset into two parts: features (independent variables) and the target (dependent variable). This division helps the model learn patterns in the data by using the features to predict the target variable."
   ]
  },
  {
   "cell_type": "code",
   "execution_count": 75,
   "id": "77548776-249b-44e9-aa82-7b5f44358692",
   "metadata": {},
   "outputs": [],
   "source": [
    "from sklearn.model_selection import train_test_split\n",
    "\n",
    "X = df.drop(columns = ['percent'], axis=1)\n",
    "y = df['percent']\n",
    "\n",
    "X_train, X_test, y_train, y_test = train_test_split(X, y, test_size=0.2, random_state=42)"
   ]
  },
  {
   "cell_type": "code",
   "execution_count": 78,
   "id": "ab02313b-a9d9-4ce7-bbec-70544009ac98",
   "metadata": {},
   "outputs": [
    {
     "name": "stdout",
     "output_type": "stream",
     "text": [
      "(38544, 49) (38544,) (9637, 49) (9637,)\n"
     ]
    }
   ],
   "source": [
    "print(X_train.shape, y_train.shape, X_test.shape, y_test.shape)"
   ]
  },
  {
   "cell_type": "markdown",
   "id": "9d48ce4f-86ec-4fdc-9755-aada718a1473",
   "metadata": {},
   "source": [
    "# Standardizing Features"
   ]
  },
  {
   "cell_type": "markdown",
   "id": "bfff380d-de53-436e-b6be-0de1ef06ff32",
   "metadata": {},
   "source": [
    "Standardization is a technique used to transform features in a dataset so that they have a mean of 0 and a standard deviation of 1. This process is essential for machine learning algorithms that rely on the distance between data points or assume that the data is normally distributed. It ensures that all features contribute equally to the model, regardless of their original scale or units."
   ]
  },
  {
   "cell_type": "markdown",
   "id": "4ab9496f-26bd-4d48-b6c5-9674c39b60ab",
   "metadata": {},
   "source": [
    "### Standard Scaler"
   ]
  },
  {
   "cell_type": "code",
   "execution_count": 82,
   "id": "348bf11b-4fee-4dc0-ada8-d3c64f5f6250",
   "metadata": {},
   "outputs": [],
   "source": [
    "from sklearn.preprocessing import StandardScaler\n",
    "\n",
    "scaler = StandardScaler()\n",
    "\n",
    "X_train_scaled = scaler.fit_transform(X_train)\n",
    "X_test_scaled = scaler.fit_transform(X_test)"
   ]
  },
  {
   "cell_type": "markdown",
   "id": "13929317-c3f4-432d-a0a0-db33ac943106",
   "metadata": {},
   "source": [
    "# Model Implementation"
   ]
  },
  {
   "cell_type": "markdown",
   "id": "2b3ba2b4-26b5-45d6-bd8c-69f9fd479f8c",
   "metadata": {},
   "source": [
    "Let's impement Random Forest Regressor which is an ensemble regression technique to train models"
   ]
  },
  {
   "cell_type": "markdown",
   "id": "cf4efa3b-71e7-4dd1-be96-48f791dc0d4e",
   "metadata": {},
   "source": [
    "**Random Forest Regressor**\n",
    "Random Forest Regressor is an ensemble learning method that builds multiple decision trees and combines their outputs to improve prediction accuracy. It is based on the bagging technique, where each tree is trained on a random subset of the data.\n",
    "\n",
    "Random forests create multiple decision trees by randomly sampling subsets of data and features. Each tree is trained independently, and their predictions are averaged (for regression tasks) to make the final prediction.\n",
    "\n",
    "It helps mitigate the overfitting problem of individual decision trees by averaging over many trees."
   ]
  },
  {
   "cell_type": "code",
   "execution_count": 85,
   "id": "1bc73d22-8cdb-4baa-a6e9-191d1aa69231",
   "metadata": {},
   "outputs": [
    {
     "data": {
      "text/html": [
       "<style>#sk-container-id-1 {color: black;background-color: white;}#sk-container-id-1 pre{padding: 0;}#sk-container-id-1 div.sk-toggleable {background-color: white;}#sk-container-id-1 label.sk-toggleable__label {cursor: pointer;display: block;width: 100%;margin-bottom: 0;padding: 0.3em;box-sizing: border-box;text-align: center;}#sk-container-id-1 label.sk-toggleable__label-arrow:before {content: \"▸\";float: left;margin-right: 0.25em;color: #696969;}#sk-container-id-1 label.sk-toggleable__label-arrow:hover:before {color: black;}#sk-container-id-1 div.sk-estimator:hover label.sk-toggleable__label-arrow:before {color: black;}#sk-container-id-1 div.sk-toggleable__content {max-height: 0;max-width: 0;overflow: hidden;text-align: left;background-color: #f0f8ff;}#sk-container-id-1 div.sk-toggleable__content pre {margin: 0.2em;color: black;border-radius: 0.25em;background-color: #f0f8ff;}#sk-container-id-1 input.sk-toggleable__control:checked~div.sk-toggleable__content {max-height: 200px;max-width: 100%;overflow: auto;}#sk-container-id-1 input.sk-toggleable__control:checked~label.sk-toggleable__label-arrow:before {content: \"▾\";}#sk-container-id-1 div.sk-estimator input.sk-toggleable__control:checked~label.sk-toggleable__label {background-color: #d4ebff;}#sk-container-id-1 div.sk-label input.sk-toggleable__control:checked~label.sk-toggleable__label {background-color: #d4ebff;}#sk-container-id-1 input.sk-hidden--visually {border: 0;clip: rect(1px 1px 1px 1px);clip: rect(1px, 1px, 1px, 1px);height: 1px;margin: -1px;overflow: hidden;padding: 0;position: absolute;width: 1px;}#sk-container-id-1 div.sk-estimator {font-family: monospace;background-color: #f0f8ff;border: 1px dotted black;border-radius: 0.25em;box-sizing: border-box;margin-bottom: 0.5em;}#sk-container-id-1 div.sk-estimator:hover {background-color: #d4ebff;}#sk-container-id-1 div.sk-parallel-item::after {content: \"\";width: 100%;border-bottom: 1px solid gray;flex-grow: 1;}#sk-container-id-1 div.sk-label:hover label.sk-toggleable__label {background-color: #d4ebff;}#sk-container-id-1 div.sk-serial::before {content: \"\";position: absolute;border-left: 1px solid gray;box-sizing: border-box;top: 0;bottom: 0;left: 50%;z-index: 0;}#sk-container-id-1 div.sk-serial {display: flex;flex-direction: column;align-items: center;background-color: white;padding-right: 0.2em;padding-left: 0.2em;position: relative;}#sk-container-id-1 div.sk-item {position: relative;z-index: 1;}#sk-container-id-1 div.sk-parallel {display: flex;align-items: stretch;justify-content: center;background-color: white;position: relative;}#sk-container-id-1 div.sk-item::before, #sk-container-id-1 div.sk-parallel-item::before {content: \"\";position: absolute;border-left: 1px solid gray;box-sizing: border-box;top: 0;bottom: 0;left: 50%;z-index: -1;}#sk-container-id-1 div.sk-parallel-item {display: flex;flex-direction: column;z-index: 1;position: relative;background-color: white;}#sk-container-id-1 div.sk-parallel-item:first-child::after {align-self: flex-end;width: 50%;}#sk-container-id-1 div.sk-parallel-item:last-child::after {align-self: flex-start;width: 50%;}#sk-container-id-1 div.sk-parallel-item:only-child::after {width: 0;}#sk-container-id-1 div.sk-dashed-wrapped {border: 1px dashed gray;margin: 0 0.4em 0.5em 0.4em;box-sizing: border-box;padding-bottom: 0.4em;background-color: white;}#sk-container-id-1 div.sk-label label {font-family: monospace;font-weight: bold;display: inline-block;line-height: 1.2em;}#sk-container-id-1 div.sk-label-container {text-align: center;}#sk-container-id-1 div.sk-container {/* jupyter's `normalize.less` sets `[hidden] { display: none; }` but bootstrap.min.css set `[hidden] { display: none !important; }` so we also need the `!important` here to be able to override the default hidden behavior on the sphinx rendered scikit-learn.org. See: https://github.com/scikit-learn/scikit-learn/issues/21755 */display: inline-block !important;position: relative;}#sk-container-id-1 div.sk-text-repr-fallback {display: none;}</style><div id=\"sk-container-id-1\" class=\"sk-top-container\"><div class=\"sk-text-repr-fallback\"><pre>RandomForestRegressor(random_state=42)</pre><b>In a Jupyter environment, please rerun this cell to show the HTML representation or trust the notebook. <br />On GitHub, the HTML representation is unable to render, please try loading this page with nbviewer.org.</b></div><div class=\"sk-container\" hidden><div class=\"sk-item\"><div class=\"sk-estimator sk-toggleable\"><input class=\"sk-toggleable__control sk-hidden--visually\" id=\"sk-estimator-id-1\" type=\"checkbox\" checked><label for=\"sk-estimator-id-1\" class=\"sk-toggleable__label sk-toggleable__label-arrow\">RandomForestRegressor</label><div class=\"sk-toggleable__content\"><pre>RandomForestRegressor(random_state=42)</pre></div></div></div></div></div>"
      ],
      "text/plain": [
       "RandomForestRegressor(random_state=42)"
      ]
     },
     "execution_count": 85,
     "metadata": {},
     "output_type": "execute_result"
    }
   ],
   "source": [
    "from sklearn.ensemble import RandomForestRegressor\n",
    "\n",
    "model = RandomForestRegressor(n_estimators=100, random_state=42)\n",
    "model.fit(X_train_scaled,y_train)\n"
   ]
  },
  {
   "cell_type": "code",
   "execution_count": 86,
   "id": "93da1ae4-f27c-4568-a45e-24b5b0fb4aba",
   "metadata": {},
   "outputs": [],
   "source": [
    "y_pred = model.predict(X_test_scaled)"
   ]
  },
  {
   "cell_type": "code",
   "execution_count": 87,
   "id": "46069831-24ea-4ec3-8655-94c9abaca71c",
   "metadata": {},
   "outputs": [
    {
     "name": "stdout",
     "output_type": "stream",
     "text": [
      "Model Performance\n",
      "MSE : 0.02822884821971417, MAE : 0.08942229863836015, R2_Score : 0.9236839506865873\n"
     ]
    }
   ],
   "source": [
    "from sklearn.metrics import mean_absolute_error, r2_score,mean_squared_error\n",
    "mse = mean_squared_error(y_test,y_pred)\n",
    "mae = mean_absolute_error(y_test,y_pred)\n",
    "r2 = r2_score(y_test,y_pred)\n",
    "\n",
    "print(\"Model Performance\")\n",
    "print(f\"MSE : {mse}, MAE : {mae}, R2_Score : {r2}\")"
   ]
  },
  {
   "cell_type": "markdown",
   "id": "041fd641-068c-4722-b578-14664269b580",
   "metadata": {},
   "source": [
    "# Feature Importance"
   ]
  },
  {
   "cell_type": "markdown",
   "id": "7a6b05bc-868c-404c-a073-b9ce1f84842a",
   "metadata": {},
   "source": [
    "Feature importance is a technique used to determine the contribution of each feature in a dataset to the predictive power of a machine learning model. Gradient Boosting is a powerful method for feature importance analysis because it builds predictive models iteratively while prioritizing the features that contribute most to reducing prediction errors."
   ]
  },
  {
   "cell_type": "code",
   "execution_count": 88,
   "id": "98626bfd-5d75-4786-8c51-72d5fd0db87e",
   "metadata": {},
   "outputs": [
    {
     "name": "stdout",
     "output_type": "stream",
     "text": [
      "                                              Feature  Importance\n",
      "0                                           mmwr_week    0.170208\n",
      "18                           respiratory_category_ILI    0.141640\n",
      "30                      demographic_group_Age Unknown    0.110484\n",
      "14  essence_category_CDC Respiratory Syncytial Vir...    0.084291\n",
      "19                     respiratory_category_Influenza    0.069232\n",
      "20                           respiratory_category_RSV    0.066456\n",
      "13               essence_category_CDC Influenza DD v1    0.063582\n",
      "17                      respiratory_category_COVID-19    0.049475\n",
      "12          essence_category_CDC COVID-Specific DD v1    0.047520\n",
      "1                                                week    0.042237\n"
     ]
    },
    {
     "data": {
      "image/png": "[encoded data removed]",
      "text/plain": [
       "<Figure size 1200x800 with 1 Axes>"
      ]
     },
     "metadata": {},
     "output_type": "display_data"
    }
   ],
   "source": [
    "feature_importance = model.feature_importances_\n",
    "\n",
    "# Create a DataFrame to map feature importance with feature names\n",
    "import pandas as pd\n",
    "feature_importance_df = pd.DataFrame({\n",
    "    'Feature': X.columns,\n",
    "    'Importance': feature_importance\n",
    "})\n",
    "\n",
    "# Sort the features by importance in descending order\n",
    "feature_importance_df = feature_importance_df.sort_values(by='Importance', ascending=False)\n",
    "\n",
    "# Display the top 10 important features\n",
    "print(feature_importance_df.head(10))\n",
    "\n",
    "# Plotting the feature importances\n",
    "import matplotlib.pyplot as plt\n",
    "plt.figure(figsize=(12, 8))\n",
    "plt.barh(feature_importance_df['Feature'][:10], feature_importance_df['Importance'][:10], color='skyblue')\n",
    "plt.xlabel('Feature Importance')\n",
    "plt.title('Top 10 Important Features from Random Forest Regressor')\n",
    "plt.gca().invert_yaxis()  # To display the most important feature at the top\n",
    "plt.show()"
   ]
  },
  {
   "cell_type": "markdown",
   "id": "72b456c4-50fc-4ee6-8ef1-176cb1e12259",
   "metadata": {},
   "source": [
    "# Training and Testing Performance Comparison"
   ]
  },
  {
   "cell_type": "code",
   "execution_count": 90,
   "id": "3f7bedac-1bcb-4e0c-b742-187b555fbaff",
   "metadata": {},
   "outputs": [
    {
     "name": "stdout",
     "output_type": "stream",
     "text": [
      "Training Performance:\n",
      "MSE: 0.004270620654546043, MAE: 0.03432038389911181, R²: 0.9884829142707161\n",
      "Test Performance:\n",
      "MSE: 0.02822884821971417, MAE: 0.08942229863836015, R²: 0.9236839506865873\n",
      "\n",
      "Difference between training and test performance:\n",
      "MSE Difference: -0.023958227565168126\n",
      "MAE Difference: -0.055101914739248345\n",
      "R² Difference: 0.06479896358412884\n"
     ]
    }
   ],
   "source": [
    "# Function to check overfitting\n",
    "def check_overfitting(model, X_train, y_train, X_test, y_test):\n",
    "    # Predict on training data\n",
    "    y_train_pred = model.predict(X_train)\n",
    "    \n",
    "    # Predict on test data\n",
    "    y_test_pred = model.predict(X_test)\n",
    "    \n",
    "    # Evaluate on training data\n",
    "    mse_train = mean_squared_error(y_train, y_train_pred)\n",
    "    mae_train = mean_absolute_error(y_train, y_train_pred)\n",
    "    r2_train = r2_score(y_train, y_train_pred)\n",
    "    \n",
    "    # Evaluate on test data\n",
    "    mse_test = mean_squared_error(y_test, y_test_pred)\n",
    "    mae_test = mean_absolute_error(y_test, y_test_pred)\n",
    "    r2_test = r2_score(y_test, y_test_pred)\n",
    "    \n",
    "    # Print results\n",
    "    print(f\"Training Performance:\")\n",
    "    print(f\"MSE: {mse_train}, MAE: {mae_train}, R²: {r2_train}\")\n",
    "    print(f\"Test Performance:\")\n",
    "    print(f\"MSE: {mse_test}, MAE: {mae_test}, R²: {r2_test}\")\n",
    "    \n",
    "    # Compare training and test performance\n",
    "    print(\"\\nDifference between training and test performance:\")\n",
    "    print(f\"MSE Difference: {mse_train - mse_test}\")\n",
    "    print(f\"MAE Difference: {mae_train - mae_test}\")\n",
    "    print(f\"R² Difference: {r2_train - r2_test}\")\n",
    "\n",
    "# Check for overfitting on the best model (e.g., Random Forest Regressor)\n",
    "check_overfitting(model, X_train_scaled, y_train, X_test_scaled, y_test)"
   ]
  },
  {
   "cell_type": "markdown",
   "id": "01cc2f09-257c-4c22-830d-14ff97e2facf",
   "metadata": {},
   "source": [
    "# Conclusion"
   ]
  },
  {
   "cell_type": "markdown",
   "id": "569516a2-9cd6-4d20-9ae7-e21f36727053",
   "metadata": {},
   "source": [
    "This project focused on predicting the percentage of visits (percent) using various machine learning regression models. After preprocessing the data, which involved one-hot encoding categorical variables and scaling numerical features, different regression models were implemented and evaluated. The Random Forest Regressor emerged as the top-performing model with the best accuracy (R² = 93.97%) and the lowest error metrics (MSE = 0.0223, MAE = 0.0815). It demonstrated strong generalization, with minimal overfitting observed. In comparison, the Decision Tree Regressor and Gradient Boosting Regressor also showed solid performance, while Linear Regression underperformed. The key takeaway is that the Random Forest Regressor offers the most reliable predictions for this dataset."
   ]
  },
  {
   "cell_type": "code",
   "execution_count": null,
   "id": "3fe26d9e-3f10-44c1-a429-e3a8560e1fa4",
   "metadata": {},
   "outputs": [],
   "source": []
  }
 ],
 "metadata": {
  "kernelspec": {
   "display_name": "Python 3 (ipykernel)",
   "language": "python",
   "name": "python3"
  },
  "language_info": {
   "codemirror_mode": {
    "name": "ipython",
    "version": 3
   },
   "file_extension": ".py",
   "mimetype": "text/x-python",
   "name": "python",
   "nbconvert_exporter": "python",
   "pygments_lexer": "ipython3",
   "version": "3.11.7"
  }
 },
 "nbformat": 4,
 "nbformat_minor": 5
}
